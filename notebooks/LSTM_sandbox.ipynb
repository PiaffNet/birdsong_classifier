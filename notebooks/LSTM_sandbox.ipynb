{
 "cells": [
  {
   "cell_type": "code",
   "execution_count": 10,
   "metadata": {},
   "outputs": [],
   "source": [
    "import os\n",
    "import numpy as np\n",
    "import pandas as pd\n",
    "import matplotlib.pyplot as plt\n",
    "\n",
    "import librosa\n"
   ]
  },
  {
   "cell_type": "markdown",
   "metadata": {},
   "source": [
    "## **Implementing sensory memory in digital spectral representations**\n",
    "\n",
    "Can be done by using a **circular buffer** to store a predetermined number of spectra at previous timesteps. <br>\n",
    "\n",
    "A circular buffer is a data structure consisting of an array which is treated as circular, where its indices loop back to 0 after the array’s length is reached.\n",
    "\n",
    "Each indice of the circular buffer holds a full frequency spectrum for a specific timestep. As new spectra are calculated, they are written to the buffer, overwriting the oldest timesteps if the buffer is already full.\n",
    "\n",
    "Here is an example of a circular buffer in Python adapted from [Eric Wieser](https://github.com/eric-wieser/numpy_ringbuffer):"
   ]
  },
  {
   "cell_type": "code",
   "execution_count": 2,
   "metadata": {},
   "outputs": [],
   "source": [
    "\n",
    "class CircularBuffer():\n",
    "    # Initializes NumPy array and head/tail pointers\n",
    "    def __init__(self, capacity, dtype=float):\n",
    "        self._buffer = np.zeros(capacity, dtype)\n",
    "        self._head_index = 0\n",
    "        self._tail_index = 0\n",
    "        self._capacity = capacity\n",
    "    # Makes sure that head and tail pointers cycle back around\n",
    "    def fix_indices(self):\n",
    "        if self._head_index >= self._capacity:\n",
    "            self._head_index -= self._capacity\n",
    "            self._tail_index -= self._capacity\n",
    "        elif self._head_index < 0:\n",
    "            self._head_index += self._capacity\n",
    "            self._tail_index += self._capacity\n",
    "    # Inserts a new value in buffer, overwriting old value if full\n",
    "    def insert(self, value):\n",
    "        if self.is_full():\n",
    "            self._head_index += 1\n",
    "        self._buffer[self._tail_index % self._capacity] = value\n",
    "        self._tail_index += 1\n",
    "        self.fix_indices()\n",
    "\n",
    "    # Returns the circular buffer as an array starting at head index\n",
    "    def unwrap(self):\n",
    "        return np.concatenate((\n",
    "            self._buffer[self._head_index:min(self._tail_index, self._capacity)],\n",
    "            self._buffer[:max(self._tail_index - self._capacity, 0)]\n",
    "        ))\n",
    "    # Indicates whether the buffer has been filled yet\n",
    "    def is_full(self):\n",
    "        return self.count() == self._capacity\n",
    "    # Returns the amount of values currently in buffer\n",
    "    def count(self):\n",
    "        return self._tail_index - self._head_index\n"
   ]
  },
  {
   "cell_type": "markdown",
   "metadata": {},
   "source": [
    "## **Dilated convolution**\n",
    "\n",
    "Under the assumption that the most recent incoming frequency data is the largest determining factor in momentary sound analysis, a **dilated spectral buffer** could be a useful tool for reducing the size of computational memory.\n",
    "\n",
    "By dilating each timestep in a new buffer by some ratio (such as an exponential incrementation of 2^t, for example) in proportion to the original buffer, the dimensionality can be drastically reduced while retaining a high resolution of spectral developments at the most recent timesteps.\n",
    "\n",
    "The driving concept behind a dilated spectral buffer is to keep the most recent spectral impressions in memory while also retaining some information about the “big picture” context in an efficient way.\n",
    "\n",
    "Below is a simplified code snippet for making dilated spectral frames using a Gammatone filterbank. **Note**: this example uses offline processing, but the filterbank can be applied real-time as well, inserting spectral frames to a circular buffer."
   ]
  },
  {
   "cell_type": "markdown",
   "metadata": {},
   "source": []
  },
  {
   "cell_type": "code",
   "execution_count": 3,
   "metadata": {},
   "outputs": [],
   "source": [
    "# Filterbank to separate input audio signals into multiple components\n",
    "\n",
    "from gammatone import gtgram\n",
    "\n",
    "class GammatoneFilterbank:\n",
    "    # Initialize Gammatone filterbank\n",
    "    def __init__(self,\n",
    "                 sample_rate,\n",
    "                 window_time,\n",
    "                 hop_time,\n",
    "                 num_filters,\n",
    "                 cutoff_low):\n",
    "        self.sample_rate = sample_rate\n",
    "        self.window_time = window_time\n",
    "        self.hop_time = hop_time\n",
    "        self.num_filters = num_filters\n",
    "        self.cutoff_low = cutoff_low\n",
    "    # Make a spectrogram from a number of audio samples\n",
    "    def make_spectrogram(self, audio_samples):\n",
    "        return gtgram.gtgram(audio_samples,\n",
    "                             self.sample_rate,\n",
    "                             self.window_time,\n",
    "                             self.hop_time,\n",
    "                             self.num_filters,\n",
    "                             self.cutoff_low)\n",
    "    # Divide audio samples into dilated spectral buffers\n",
    "    def make_dilated_spectral_frames(self,\n",
    "                                     audio_samples,\n",
    "                                     num_frames,\n",
    "                                     dilation_factor):\n",
    "        spectrogram = self.make_spectrogram(audio_samples)\n",
    "        spectrogram = np.swapaxes(spectrogram, 0, 1)\n",
    "        dilated_frames = np.zeros((len(spectrogram),\n",
    "                                  num_frames,\n",
    "                                  len(spectrogram[0])))\n",
    "\n",
    "        for i in range(len(spectrogram)):\n",
    "            for j in range(num_frames):\n",
    "                dilation = np.power(dilation_factor, j)\n",
    "\n",
    "                if i - dilation < 0:\n",
    "                    dilated_frames[i][j] = spectrogram[0]\n",
    "                else:\n",
    "                    dilated_frames[i][j] = spectrogram[i - dilation]\n",
    "\n",
    "        return dilated_frames\n"
   ]
  },
  {
   "cell_type": "markdown",
   "metadata": {},
   "source": [
    "## **Implement a Seq2Seq autoencoder with Keras to produce audio embeddings**\n",
    "\n",
    "Below is a code snippet for a \"Listener Network\", whose purpose is to “listen” to incoming sequences of sounds and reduce them to a more compact and meaningful representation which we can then analyze and process."
   ]
  },
  {
   "cell_type": "code",
   "execution_count": 4,
   "metadata": {},
   "outputs": [],
   "source": [
    "import os\n",
    "from birdsong.config import config\n",
    "from birdsong.audiotransform.to_image import AudioPreprocessor\n"
   ]
  },
  {
   "cell_type": "code",
   "execution_count": 5,
   "metadata": {},
   "outputs": [],
   "source": [
    "from keras.models import Model\n",
    "from keras.layers import Input, LSTM, RepeatVector\n",
    "\n",
    "def prepare_listener(timesteps,\n",
    "                     input_dim,\n",
    "                     latent_dim,\n",
    "                     optimizer_type,\n",
    "                     loss_type):\n",
    "    \"\"\"Prepares Seq2Seq autoencoder model\n",
    "\n",
    "        Args:\n",
    "            :param timesteps: The number of timesteps in sequence\n",
    "            :param input_dim: The dimensions of the input\n",
    "            :param latent_dim: The latent dimensionality of LSTM\n",
    "            :param optimizer_type: The type of optimizer to use\n",
    "            :param loss_type: The type of loss to use\n",
    "\n",
    "        Returns:\n",
    "            Autoencoder model, Encoder model\n",
    "    \"\"\"\n",
    "\n",
    "    inputs = Input(shape=(timesteps, input_dim))\n",
    "    encoded = LSTM(int(input_dim / 2),\n",
    "                   activation=\"relu\",\n",
    "                   return_sequences=True)(inputs)\n",
    "    encoded = LSTM(latent_dim,\n",
    "                   activation=\"relu\",\n",
    "                   return_sequences=False)(encoded)\n",
    "    decoded = RepeatVector(timesteps)(encoded)\n",
    "    decoded = LSTM(int(input_dim / 2),\n",
    "                   activation=\"relu\",\n",
    "                   return_sequences=True)(decoded)\n",
    "    decoded = LSTM(input_dim,\n",
    "                   return_sequences=True)(decoded)\n",
    "\n",
    "    autoencoder = Model(inputs, decoded)\n",
    "    encoder = Model(inputs, encoded)\n",
    "\n",
    "    autoencoder.compile(optimizer=optimizer_type,\n",
    "                        loss=loss_type,\n",
    "                        metrics=['acc'])\n",
    "\n",
    "    return autoencoder, encoder\n"
   ]
  },
  {
   "cell_type": "code",
   "execution_count": 6,
   "metadata": {},
   "outputs": [
    {
     "name": "stdout",
     "output_type": "stream",
     "text": [
      "/Users/aless/code/A54P/birdsong_classifier/data/split_data/merlin/XC77877_0.mp3\n"
     ]
    },
    {
     "data": {
      "text/plain": [
       "True"
      ]
     },
     "execution_count": 6,
     "metadata": {},
     "output_type": "execute_result"
    }
   ],
   "source": [
    "sample_dir = '/Users/aless/code/A54P/birdsong_classifier/data/split_data/merlin'\n",
    "sample_file = 'XC77877_0.mp3'\n",
    "sample_file_path = os.path.join(sample_dir, sample_file)\n",
    "print(sample_file_path)\n",
    "os.path.isfile(sample_file_path)\n"
   ]
  },
  {
   "cell_type": "code",
   "execution_count": 7,
   "metadata": {},
   "outputs": [],
   "source": [
    "sample_rate = 45000\n",
    "window_time = 10\n",
    "hop_time = 42\n",
    "num_filters = 100\n",
    "cutoff_low = 20\n",
    "filter_audio = GammatoneFilterbank(sample_rate,\n",
    "                 window_time,\n",
    "                 hop_time,\n",
    "                 num_filters,\n",
    "                 cutoff_low)\n"
   ]
  },
  {
   "cell_type": "code",
   "execution_count": 8,
   "metadata": {},
   "outputs": [],
   "source": [
    "import librosa\n",
    "from pydub import AudioSegment\n"
   ]
  },
  {
   "cell_type": "code",
   "execution_count": 11,
   "metadata": {},
   "outputs": [
    {
     "data": {
      "text/plain": [
       "22050"
      ]
     },
     "metadata": {},
     "output_type": "display_data"
    },
    {
     "data": {
      "text/plain": [
       "1"
      ]
     },
     "metadata": {},
     "output_type": "display_data"
    },
    {
     "data": {
      "text/plain": [
       "2"
      ]
     },
     "metadata": {},
     "output_type": "display_data"
    },
    {
     "data": {
      "text/plain": [
       "3.0"
      ]
     },
     "metadata": {},
     "output_type": "display_data"
    },
    {
     "name": "stdout",
     "output_type": "stream",
     "text": [
      "22050\n"
     ]
    },
    {
     "data": {
      "text/plain": [
       "(66150,)"
      ]
     },
     "metadata": {},
     "output_type": "display_data"
    },
    {
     "data": {
      "text/plain": [
       "[<matplotlib.lines.Line2D at 0x299a93af0>]"
      ]
     },
     "execution_count": 11,
     "metadata": {},
     "output_type": "execute_result"
    },
    {
     "data": {
      "image/png": "[encoded data removed]",
      "text/plain": [
       "<Figure size 640x480 with 1 Axes>"
      ]
     },
     "metadata": {},
     "output_type": "display_data"
    }
   ],
   "source": [
    "sound = AudioSegment.from_file(sample_file_path, format='mp3')\n",
    "display(sound.frame_rate)\n",
    "display(sound.channels)\n",
    "display(sound.sample_width)\n",
    "display(sound.duration_seconds)\n",
    "raw_audio = np.asarray(sound.get_array_of_samples())\n",
    "raw_audio.shape\n",
    "\n",
    "librosa_wave, sr = librosa.load(sample_file_path)\n",
    "print(sr)\n",
    "display(librosa_wave.shape)\n",
    "\n",
    "plt.plot(librosa_wave)\n"
   ]
  },
  {
   "cell_type": "code",
   "execution_count": 12,
   "metadata": {},
   "outputs": [
    {
     "data": {
      "text/plain": [
       "2646000.0"
      ]
     },
     "execution_count": 12,
     "metadata": {},
     "output_type": "execute_result"
    }
   ],
   "source": [
    "librosa_wave.shape[0] / 0.025\n"
   ]
  },
  {
   "cell_type": "code",
   "execution_count": 40,
   "metadata": {},
   "outputs": [],
   "source": [
    "sample_rate = sr\n",
    "window_time = 0.05#s\n",
    "hop_time =  0.25 * window_time #s\n",
    "num_filters = 21\n",
    "cutoff_low = 20\n",
    "filter_audio = GammatoneFilterbank(sample_rate,\n",
    "                 window_time,\n",
    "                 hop_time,\n",
    "                 num_filters,\n",
    "                 cutoff_low)\n",
    "D = filter_audio.make_spectrogram(librosa_wave)\n"
   ]
  },
  {
   "cell_type": "code",
   "execution_count": 41,
   "metadata": {},
   "outputs": [
    {
     "data": {
      "text/plain": [
       "<matplotlib.image.AxesImage at 0x2a503c340>"
      ]
     },
     "execution_count": 41,
     "metadata": {},
     "output_type": "execute_result"
    },
    {
     "data": {
      "image/png": "[encoded data removed]",
      "text/plain": [
       "<Figure size 640x480 with 1 Axes>"
      ]
     },
     "metadata": {},
     "output_type": "display_data"
    }
   ],
   "source": [
    "# import matplotlib.pyplot as plt\n",
    "\n",
    "plt.imshow(D)\n"
   ]
  },
  {
   "cell_type": "code",
   "execution_count": 42,
   "metadata": {},
   "outputs": [],
   "source": [
    "num_frames = 45\n",
    "dilation_factor = 2\n",
    "Df = filter_audio.make_dilated_spectral_frames(\n",
    "                                     librosa_wave,\n",
    "                                     num_frames,\n",
    "                                     dilation_factor)\n"
   ]
  },
  {
   "cell_type": "code",
   "execution_count": 43,
   "metadata": {},
   "outputs": [
    {
     "data": {
      "text/plain": [
       "(236, 21)"
      ]
     },
     "metadata": {},
     "output_type": "display_data"
    }
   ],
   "source": [
    "Df_most_recent = Df[:,0,:]\n",
    "display(Df_most_recent.shape)\n"
   ]
  },
  {
   "cell_type": "code",
   "execution_count": 45,
   "metadata": {},
   "outputs": [
    {
     "data": {
      "image/png": "[encoded data removed]",
      "text/plain": [
       "<Figure size 640x480 with 2 Axes>"
      ]
     },
     "metadata": {},
     "output_type": "display_data"
    }
   ],
   "source": [
    "n_r,n_frames,n_filtres = Df.shape\n",
    "fig, axes = plt.subplots(nrows=1, ncols=2)\n",
    "for j in range(n_frames):\n",
    "    axes[0].plot(Df[:,0,3])\n",
    "\n",
    "for k in range(n_filtres):\n",
    "    axes[1].plot(Df[:,0,17])\n",
    "\n",
    "plt.tight_layout()\n"
   ]
  },
  {
   "cell_type": "code",
   "execution_count": 46,
   "metadata": {},
   "outputs": [
    {
     "data": {
      "text/plain": [
       "212400.0"
      ]
     },
     "execution_count": 46,
     "metadata": {},
     "output_type": "execute_result"
    }
   ],
   "source": [
    "(45 * 236) /0.05\n"
   ]
  },
  {
   "cell_type": "code",
   "execution_count": 47,
   "metadata": {},
   "outputs": [],
   "source": [
    "# def construct_lstm_dataset(parent_folder):\n",
    "#     X = np.ndarray()\n",
    "#     y = []\n",
    "#     iterator = 0\n",
    "#     species_folders_labels = get_folders_labels(parent_folder)\n",
    "#     for species_label in species_folders_labels:\n",
    "#         species_folder_label_path = os.path.join(species_folders_labels, species_label)\n",
    "#         files_in_species_folder = list_files_in_folder(species_folder_label_path)\n",
    "#         for file in files_in_species_folder:\n",
    "#             X[iterator,:,:] = apply_gammatone(file)\n",
    "#             y.append(species_label)\n",
    "#             iterator += 1\n",
    "#     return X,y\n"
   ]
  },
  {
   "cell_type": "code",
   "execution_count": 48,
   "metadata": {},
   "outputs": [],
   "source": [
    "from birdsong.utils import get_folders_labels\n"
   ]
  },
  {
   "cell_type": "code",
   "execution_count": 68,
   "metadata": {},
   "outputs": [],
   "source": [
    "# function to get gammatone from an audio file\n",
    "\n",
    "# set gammatone params\n",
    "sample_rate = sr\n",
    "window_time = 0.05#s\n",
    "hop_time =  0.25 * window_time #s\n",
    "num_filters = 21\n",
    "cutoff_low = 20\n",
    "\n",
    "num_frames = 45\n",
    "dilation_factor = 2\n",
    "\n",
    "# instantiate GammatoneFilterbank class\n",
    "audio_filter = GammatoneFilterbank(sample_rate,\n",
    "                 window_time,\n",
    "                 hop_time,\n",
    "                 num_filters,\n",
    "                 cutoff_low)\n",
    "\n",
    "# define the function to get gammatone\n",
    "def get_gammatone(audio_file_path):\n",
    "    librosa_wave_file, sr = librosa.load(audio_file_path)\n",
    "    gammatone = audio_filter.make_dilated_spectral_frames(librosa_wave_file,\n",
    "                                                          num_frames,\n",
    "                                                          dilation_factor)\n",
    "    # we lilit us ti only one frame, frame 0\n",
    "    gammatone_most_recent = gammatone[:,0,:]\n",
    "    return gammatone_most_recent\n"
   ]
  },
  {
   "cell_type": "code",
   "execution_count": 69,
   "metadata": {},
   "outputs": [
    {
     "data": {
      "text/plain": [
       "array([[2.63591297e-06, 3.02260983e-06, 6.56432163e-06, ...,\n",
       "        3.18383914e-05, 3.04387106e-05, 2.71932312e-05],\n",
       "       [2.63591297e-06, 3.02260983e-06, 6.56432163e-06, ...,\n",
       "        3.18383914e-05, 3.04387106e-05, 2.71932312e-05],\n",
       "       [2.58618994e-06, 2.66194192e-06, 6.56994574e-06, ...,\n",
       "        3.31934956e-05, 3.05677519e-05, 2.74665927e-05],\n",
       "       ...,\n",
       "       [3.21444971e-07, 4.96932591e-07, 3.21006065e-06, ...,\n",
       "        3.45443508e-05, 2.95513392e-05, 3.36599220e-05],\n",
       "       [3.97246368e-07, 5.21170669e-07, 3.14312212e-06, ...,\n",
       "        3.44793261e-05, 3.03687290e-05, 3.41610863e-05],\n",
       "       [4.49450497e-07, 6.08322181e-07, 3.24655088e-06, ...,\n",
       "        3.31589348e-05, 2.96920380e-05, 3.29869411e-05]])"
      ]
     },
     "execution_count": 69,
     "metadata": {},
     "output_type": "execute_result"
    }
   ],
   "source": [
    "merlin_test_path = '/Users/aless/code/A54P/birdsong_classifier/data/split_data/merlin/XC195551_9.mp3'\n",
    "\n",
    "get_gammatone(merlin_test_path)\n"
   ]
  },
  {
   "cell_type": "code",
   "execution_count": 70,
   "metadata": {},
   "outputs": [],
   "source": [
    "# function to transform audio signals into dilated spectral frames\n",
    "import glob\n",
    "\n",
    "def construct_lstm_dataset(parent_folder):\n",
    "    X = []\n",
    "    y = []\n",
    "    iterator = 0\n",
    "    species_folders_labels = get_folders_labels(parent_folder)\n",
    "    for species_label in species_folders_labels:\n",
    "        species_folder_label_path = os.path.join(parent_folder, species_label)\n",
    "\n",
    "        files_in_species_folder = glob.glob(os.path.join(species_folder_label_path,\"*.mp3\"))\n",
    "        for file_path in files_in_species_folder:\n",
    "            X.append(get_gammatone(file_path))\n",
    "            y.append(species_label)\n",
    "            iterator += 1\n",
    "    X = np.array(X)\n",
    "    y = np.array(y)\n",
    "    return X,y\n"
   ]
  },
  {
   "cell_type": "code",
   "execution_count": 71,
   "metadata": {},
   "outputs": [],
   "source": [
    "test_path = '/Users/aless/code/A54P/birdsong_classifier/data/test_samples/'\n"
   ]
  },
  {
   "cell_type": "code",
   "execution_count": 72,
   "metadata": {},
   "outputs": [],
   "source": [
    "X, y = construct_lstm_dataset(test_path)\n",
    "# X = np.array(X)\n",
    "# y = np.array(y)\n",
    "# y = tf.keras.utils.to_categorical(y, num_classes=3)\n"
   ]
  },
  {
   "cell_type": "code",
   "execution_count": 73,
   "metadata": {},
   "outputs": [
    {
     "data": {
      "text/plain": [
       "(22, 236, 21)"
      ]
     },
     "metadata": {},
     "output_type": "display_data"
    },
    {
     "data": {
      "text/plain": [
       "(22,)"
      ]
     },
     "metadata": {},
     "output_type": "display_data"
    }
   ],
   "source": [
    "display(X.shape)\n",
    "display(y.shape)\n"
   ]
  },
  {
   "cell_type": "code",
   "execution_count": null,
   "metadata": {},
   "outputs": [],
   "source": []
  }
 ],
 "metadata": {
  "kernelspec": {
   "display_name": "birdsong_classifier",
   "language": "python",
   "name": "python3"
  },
  "language_info": {
   "codemirror_mode": {
    "name": "ipython",
    "version": 3
   },
   "file_extension": ".py",
   "mimetype": "text/x-python",
   "name": "python",
   "nbconvert_exporter": "python",
   "pygments_lexer": "ipython3",
   "version": "3.10.6"
  }
 },
 "nbformat": 4,
 "nbformat_minor": 2
}
