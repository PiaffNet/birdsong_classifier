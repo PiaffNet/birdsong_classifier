{
 "cells": [
  {
   "cell_type": "code",
   "execution_count": 16,
   "metadata": {},
   "outputs": [],
   "source": [
    "import os\n",
    "import numpy as np\n",
    "import pandas as pd\n",
    "import matplotlib.pyplot as plt\n",
    "\n",
    "import librosa\n",
    "\n",
    "from birdsong.utils import get_folders_labels\n"
   ]
  },
  {
   "cell_type": "markdown",
   "metadata": {},
   "source": [
    "## **Implementing sensory memory in digital spectral representations**\n",
    "\n",
    "Can be done by using a **circular buffer** to store a predetermined number of spectra at previous timesteps. <br>\n",
    "\n",
    "A circular buffer is a data structure consisting of an array which is treated as circular, where its indices loop back to 0 after the array’s length is reached.\n",
    "\n",
    "Each indice of the circular buffer holds a full frequency spectrum for a specific timestep. As new spectra are calculated, they are written to the buffer, overwriting the oldest timesteps if the buffer is already full.\n",
    "\n",
    "Here is an example of a circular buffer in Python adapted from [Eric Wieser](https://github.com/eric-wieser/numpy_ringbuffer):"
   ]
  },
  {
   "cell_type": "code",
   "execution_count": 17,
   "metadata": {},
   "outputs": [],
   "source": [
    "\n",
    "class CircularBuffer():\n",
    "    # Initializes NumPy array and head/tail pointers\n",
    "    def __init__(self, capacity, dtype=float):\n",
    "        self._buffer = np.zeros(capacity, dtype)\n",
    "        self._head_index = 0\n",
    "        self._tail_index = 0\n",
    "        self._capacity = capacity\n",
    "    # Makes sure that head and tail pointers cycle back around\n",
    "    def fix_indices(self):\n",
    "        if self._head_index >= self._capacity:\n",
    "            self._head_index -= self._capacity\n",
    "            self._tail_index -= self._capacity\n",
    "        elif self._head_index < 0:\n",
    "            self._head_index += self._capacity\n",
    "            self._tail_index += self._capacity\n",
    "    # Inserts a new value in buffer, overwriting old value if full\n",
    "    def insert(self, value):\n",
    "        if self.is_full():\n",
    "            self._head_index += 1\n",
    "        self._buffer[self._tail_index % self._capacity] = value\n",
    "        self._tail_index += 1\n",
    "        self.fix_indices()\n",
    "\n",
    "    # Returns the circular buffer as an array starting at head index\n",
    "    def unwrap(self):\n",
    "        return np.concatenate((\n",
    "            self._buffer[self._head_index:min(self._tail_index, self._capacity)],\n",
    "            self._buffer[:max(self._tail_index - self._capacity, 0)]\n",
    "        ))\n",
    "    # Indicates whether the buffer has been filled yet\n",
    "    def is_full(self):\n",
    "        return self.count() == self._capacity\n",
    "    # Returns the amount of values currently in buffer\n",
    "    def count(self):\n",
    "        return self._tail_index - self._head_index\n"
   ]
  },
  {
   "cell_type": "markdown",
   "metadata": {},
   "source": [
    "## **Dilated convolution**\n",
    "\n",
    "Under the assumption that the most recent incoming frequency data is the largest determining factor in momentary sound analysis, a **dilated spectral buffer** could be a useful tool for reducing the size of computational memory.\n",
    "\n",
    "By dilating each timestep in a new buffer by some ratio (such as an exponential incrementation of 2^t, for example) in proportion to the original buffer, the dimensionality can be drastically reduced while retaining a high resolution of spectral developments at the most recent timesteps.\n",
    "\n",
    "The driving concept behind a dilated spectral buffer is to keep the most recent spectral impressions in memory while also retaining some information about the “big picture” context in an efficient way.\n",
    "\n",
    "Below is a simplified code snippet for making dilated spectral frames using a Gammatone filterbank. **Note**: this example uses offline processing, but the filterbank can be applied real-time as well, inserting spectral frames to a circular buffer."
   ]
  },
  {
   "cell_type": "markdown",
   "metadata": {},
   "source": []
  },
  {
   "cell_type": "code",
   "execution_count": 18,
   "metadata": {},
   "outputs": [],
   "source": [
    "# Filterbank to separate input audio signals into multiple components\n",
    "\n",
    "from gammatone import gtgram\n",
    "\n",
    "class GammatoneFilterbank:\n",
    "    # Initialize Gammatone filterbank\n",
    "    def __init__(self,\n",
    "                 sample_rate,\n",
    "                 window_time,\n",
    "                 hop_time,\n",
    "                 num_filters,\n",
    "                 cutoff_low):\n",
    "        self.sample_rate = sample_rate\n",
    "        self.window_time = window_time\n",
    "        self.hop_time = hop_time\n",
    "        self.num_filters = num_filters\n",
    "        self.cutoff_low = cutoff_low\n",
    "    # Make a spectrogram from a number of audio samples\n",
    "    def make_spectrogram(self, audio_samples):\n",
    "        return gtgram.gtgram(audio_samples,\n",
    "                             self.sample_rate,\n",
    "                             self.window_time,\n",
    "                             self.hop_time,\n",
    "                             self.num_filters,\n",
    "                             self.cutoff_low)\n",
    "    # Divide audio samples into dilated spectral buffers\n",
    "    def make_dilated_spectral_frames(self,\n",
    "                                     audio_samples,\n",
    "                                     num_frames,\n",
    "                                     dilation_factor):\n",
    "        spectrogram = self.make_spectrogram(audio_samples)\n",
    "        spectrogram = np.swapaxes(spectrogram, 0, 1)\n",
    "        dilated_frames = np.zeros((len(spectrogram),\n",
    "                                  num_frames,\n",
    "                                  len(spectrogram[0])))\n",
    "\n",
    "        for i in range(len(spectrogram)):\n",
    "            for j in range(num_frames):\n",
    "                dilation = np.power(dilation_factor, j)\n",
    "\n",
    "                if i - dilation < 0:\n",
    "                    dilated_frames[i][j] = spectrogram[0]\n",
    "                else:\n",
    "                    dilated_frames[i][j] = spectrogram[i - dilation]\n",
    "\n",
    "        return dilated_frames\n"
   ]
  },
  {
   "cell_type": "markdown",
   "metadata": {},
   "source": [
    "## **Implement a Seq2Seq autoencoder with Keras to produce audio embeddings**\n",
    "\n",
    "Below is a code snippet for a \"Listener Network\", whose purpose is to “listen” to incoming sequences of sounds and reduce them to a more compact and meaningful representation which we can then analyze and process."
   ]
  },
  {
   "cell_type": "code",
   "execution_count": 19,
   "metadata": {},
   "outputs": [],
   "source": [
    "import os\n",
    "from birdsong.config import config\n",
    "from birdsong.audiotransform.to_image import AudioPreprocessor\n"
   ]
  },
  {
   "cell_type": "code",
   "execution_count": 20,
   "metadata": {},
   "outputs": [
    {
     "name": "stdout",
     "output_type": "stream",
     "text": [
      "/home/sheshka/code/Raman-Sheshka/birdsong_classifier/raw_data/split_data/merlin/XC77877_0.mp3\n"
     ]
    },
    {
     "data": {
      "text/plain": [
       "True"
      ]
     },
     "execution_count": 20,
     "metadata": {},
     "output_type": "execute_result"
    }
   ],
   "source": [
    "sample_dir = '/home/sheshka/code/Raman-Sheshka/birdsong_classifier/raw_data/split_data/merlin'\n",
    "sample_file = 'XC77877_0.mp3'\n",
    "sample_file_path = os.path.join(sample_dir, sample_file)\n",
    "print(sample_file_path)\n",
    "os.path.isfile(sample_file_path)\n"
   ]
  },
  {
   "cell_type": "code",
   "execution_count": 21,
   "metadata": {},
   "outputs": [],
   "source": [
    "sample_rate = 45000\n",
    "window_time = 10\n",
    "hop_time = 42\n",
    "num_filters = 100\n",
    "cutoff_low = 20\n",
    "filter_audio = GammatoneFilterbank(sample_rate,\n",
    "                 window_time,\n",
    "                 hop_time,\n",
    "                 num_filters,\n",
    "                 cutoff_low)\n"
   ]
  },
  {
   "cell_type": "code",
   "execution_count": 22,
   "metadata": {},
   "outputs": [],
   "source": [
    "import librosa\n",
    "from pydub import AudioSegment\n"
   ]
  },
  {
   "cell_type": "code",
   "execution_count": 23,
   "metadata": {},
   "outputs": [
    {
     "data": {
      "text/plain": [
       "22050"
      ]
     },
     "metadata": {},
     "output_type": "display_data"
    },
    {
     "data": {
      "text/plain": [
       "1"
      ]
     },
     "metadata": {},
     "output_type": "display_data"
    },
    {
     "data": {
      "text/plain": [
       "2"
      ]
     },
     "metadata": {},
     "output_type": "display_data"
    },
    {
     "data": {
      "text/plain": [
       "3.0"
      ]
     },
     "metadata": {},
     "output_type": "display_data"
    },
    {
     "name": "stdout",
     "output_type": "stream",
     "text": [
      "22050\n"
     ]
    },
    {
     "data": {
      "text/plain": [
       "(66150,)"
      ]
     },
     "metadata": {},
     "output_type": "display_data"
    },
    {
     "data": {
      "text/plain": [
       "[<matplotlib.lines.Line2D at 0x7fae06b44ac0>]"
      ]
     },
     "execution_count": 23,
     "metadata": {},
     "output_type": "execute_result"
    },
    {
     "data": {
      "image/png": "[encoded data removed]",
      "text/plain": [
       "<Figure size 640x480 with 1 Axes>"
      ]
     },
     "metadata": {},
     "output_type": "display_data"
    }
   ],
   "source": [
    "sound = AudioSegment.from_file(sample_file_path, format='mp3')\n",
    "display(sound.frame_rate)\n",
    "display(sound.channels)\n",
    "display(sound.sample_width)\n",
    "display(sound.duration_seconds)\n",
    "raw_audio = np.asarray(sound.get_array_of_samples())\n",
    "raw_audio.shape\n",
    "\n",
    "librosa_wave, sr = librosa.load(sample_file_path)\n",
    "print(sr)\n",
    "display(librosa_wave.shape)\n",
    "\n",
    "plt.plot(librosa_wave)\n"
   ]
  },
  {
   "cell_type": "code",
   "execution_count": 24,
   "metadata": {},
   "outputs": [
    {
     "data": {
      "text/plain": [
       "2646000.0"
      ]
     },
     "execution_count": 24,
     "metadata": {},
     "output_type": "execute_result"
    }
   ],
   "source": [
    "librosa_wave.shape[0] / 0.025\n"
   ]
  },
  {
   "cell_type": "code",
   "execution_count": 25,
   "metadata": {},
   "outputs": [],
   "source": [
    "sample_rate = sr\n",
    "window_time = 0.05#s\n",
    "hop_time =  0.25 * window_time #s\n",
    "num_filters = 21\n",
    "cutoff_low = 20\n",
    "filter_audio = GammatoneFilterbank(sample_rate,\n",
    "                 window_time,\n",
    "                 hop_time,\n",
    "                 num_filters,\n",
    "                 cutoff_low)\n",
    "D = filter_audio.make_spectrogram(librosa_wave)\n"
   ]
  },
  {
   "cell_type": "code",
   "execution_count": 26,
   "metadata": {},
   "outputs": [
    {
     "data": {
      "text/plain": [
       "<matplotlib.image.AxesImage at 0x7fae06b8eb30>"
      ]
     },
     "execution_count": 26,
     "metadata": {},
     "output_type": "execute_result"
    },
    {
     "data": {
      "image/png": "[encoded data removed]",
      "text/plain": [
       "<Figure size 640x480 with 1 Axes>"
      ]
     },
     "metadata": {},
     "output_type": "display_data"
    }
   ],
   "source": [
    "# import matplotlib.pyplot as plt\n",
    "\n",
    "plt.imshow(D)\n"
   ]
  },
  {
   "cell_type": "code",
   "execution_count": 27,
   "metadata": {},
   "outputs": [],
   "source": [
    "num_frames = 45\n",
    "dilation_factor = 2\n",
    "Df = filter_audio.make_dilated_spectral_frames(\n",
    "                                     librosa_wave,\n",
    "                                     num_frames,\n",
    "                                     dilation_factor)\n"
   ]
  },
  {
   "cell_type": "code",
   "execution_count": 28,
   "metadata": {},
   "outputs": [
    {
     "data": {
      "text/plain": [
       "(236, 21)"
      ]
     },
     "metadata": {},
     "output_type": "display_data"
    }
   ],
   "source": [
    "Df_most_recent = Df[:,0,:]\n",
    "display(Df_most_recent.shape)\n"
   ]
  },
  {
   "cell_type": "code",
   "execution_count": 29,
   "metadata": {},
   "outputs": [
    {
     "data": {
      "image/png": "[encoded data removed]",
      "text/plain": [
       "<Figure size 640x480 with 2 Axes>"
      ]
     },
     "metadata": {},
     "output_type": "display_data"
    }
   ],
   "source": [
    "n_r,n_frames,n_filtres = Df.shape\n",
    "fig, axes = plt.subplots(nrows=1, ncols=2)\n",
    "for j in range(n_frames):\n",
    "    axes[0].plot(Df[:,0,3])\n",
    "\n",
    "for k in range(n_filtres):\n",
    "    axes[1].plot(Df[:,0,17])\n",
    "\n",
    "plt.tight_layout()\n"
   ]
  },
  {
   "cell_type": "code",
   "execution_count": 30,
   "metadata": {},
   "outputs": [
    {
     "data": {
      "text/plain": [
       "212400.0"
      ]
     },
     "execution_count": 30,
     "metadata": {},
     "output_type": "execute_result"
    }
   ],
   "source": [
    "(45 * 236) /0.05\n"
   ]
  },
  {
   "cell_type": "code",
   "execution_count": 31,
   "metadata": {},
   "outputs": [],
   "source": [
    "# def construct_lstm_dataset(parent_folder):\n",
    "#     X = np.ndarray()\n",
    "#     y = []\n",
    "#     iterator = 0\n",
    "#     species_folders_labels = get_folders_labels(parent_folder)\n",
    "#     for species_label in species_folders_labels:\n",
    "#         species_folder_label_path = os.path.join(species_folders_labels, species_label)\n",
    "#         files_in_species_folder = list_files_in_folder(species_folder_label_path)\n",
    "#         for file in files_in_species_folder:\n",
    "#             X[iterator,:,:] = apply_gammatone(file)\n",
    "#             y.append(species_label)\n",
    "#             iterator += 1\n",
    "#     return X,y\n"
   ]
  },
  {
   "cell_type": "code",
   "execution_count": 32,
   "metadata": {},
   "outputs": [],
   "source": [
    "from birdsong.utils import get_folders_labels\n"
   ]
  },
  {
   "cell_type": "code",
   "execution_count": 42,
   "metadata": {},
   "outputs": [],
   "source": [
    "# function to get gammatone from an audio file\n",
    "\n",
    "# set gammatone params\n",
    "window_time = 0.05#s\n",
    "hop_time =  0.25 * window_time #s\n",
    "num_filters = 21\n",
    "cutoff_low = 20\n",
    "\n",
    "num_frames = 10\n",
    "dilation_factor = 2\n",
    "\n",
    "\n",
    "# define the function to get gammatone\n",
    "def get_gammatone(audio_file_path):\n",
    "    librosa_wave_file, sr = librosa.load(audio_file_path)\n",
    "    audio_filter = GammatoneFilterbank(sr,\n",
    "                 window_time,\n",
    "                 hop_time,\n",
    "                 num_filters,\n",
    "                 cutoff_low)\n",
    "    gammatone = audio_filter.make_dilated_spectral_frames(librosa_wave_file,\n",
    "                                                          num_frames,\n",
    "                                                          dilation_factor)\n",
    "    # we lilit us ti only one frame, frame 0\n",
    "    gammatone_most_recent = gammatone[:,0,:]\n",
    "    return gammatone_most_recent\n"
   ]
  },
  {
   "cell_type": "code",
   "execution_count": 46,
   "metadata": {},
   "outputs": [
    {
     "data": {
      "text/plain": [
       "(236, 21)"
      ]
     },
     "metadata": {},
     "output_type": "display_data"
    }
   ],
   "source": [
    "merlin_test_path = '/home/sheshka/code/Raman-Sheshka/birdsong_classifier/raw_data/split_data/merlin/XC195551_9.mp3'\n",
    "\n",
    "toto = get_gammatone(merlin_test_path)\n",
    "display(toto.shape)\n"
   ]
  },
  {
   "cell_type": "code",
   "execution_count": 48,
   "metadata": {},
   "outputs": [],
   "source": [
    "# function to transform audio signals into dilated spectral frames\n",
    "import glob\n",
    "\n",
    "def get_dataset_len(parent_folder):\n",
    "    n = 0\n",
    "    species_folders_labels = get_folders_labels(parent_folder)\n",
    "    for species_label in species_folders_labels:\n",
    "        species_folder_label_path = os.path.join(parent_folder, species_label)\n",
    "        n += len(glob.glob(os.path.join(species_folder_label_path,\"*.mp3\")))\n",
    "    return n\n",
    "\n",
    "\n",
    "def construct_lstm_dataset(parent_folder, num_timesteps, num_filters):\n",
    "\n",
    "    n_rows = get_dataset_len(parent_folder)\n",
    "    n_cols = num_timesteps\n",
    "    n_states = num_filters\n",
    "\n",
    "    X = np.zeros((n_rows, n_cols, n_states), dtype=np.float32)\n",
    "    y = ['silence'] * n_rows\n",
    "\n",
    "    species_folders_labels = get_folders_labels(parent_folder)\n",
    "    iterator = 0\n",
    "    for species_label in species_folders_labels:\n",
    "        species_folder_label_path = os.path.join(parent_folder, species_label)\n",
    "\n",
    "        files_in_species_folder = glob.glob(os.path.join(species_folder_label_path,\"*.mp3\"))\n",
    "        for file_path in files_in_species_folder:\n",
    "            try:\n",
    "                X[iterator,:,:] = get_gammatone(file_path)\n",
    "                y[iterator] = species_label\n",
    "                iterator += 1\n",
    "            except:\n",
    "                pass\n",
    "    return X,y\n"
   ]
  },
  {
   "cell_type": "code",
   "execution_count": 49,
   "metadata": {},
   "outputs": [],
   "source": [
    "real_path = '/home/sheshka/code/Raman-Sheshka/birdsong_classifier/raw_data/split_data/'\n"
   ]
  },
  {
   "cell_type": "code",
   "execution_count": 37,
   "metadata": {},
   "outputs": [
    {
     "data": {
      "text/plain": [
       "40579"
      ]
     },
     "metadata": {},
     "output_type": "display_data"
    }
   ],
   "source": [
    "N = get_dataset_len(real_path)\n",
    "display(N)\n"
   ]
  },
  {
   "cell_type": "code",
   "execution_count": 52,
   "metadata": {},
   "outputs": [],
   "source": [
    "X, y = construct_lstm_dataset(real_path, 236, 21)\n"
   ]
  },
  {
   "cell_type": "code",
   "execution_count": 38,
   "metadata": {},
   "outputs": [],
   "source": [
    "#X, y = construct_lstm_dataset(real_patt\n",
    "\n",
    "nrows, ncols = 1000000, 100\n",
    "\n",
    "f = np.memmap('memmapped.dat', dtype=np.float32,\n",
    "              mode='w+', shape=(nrows, ncols))\n",
    "\n",
    "for i in range(ncols):\n",
    "    f[:, i] = np.random.rand(nrows)\n"
   ]
  },
  {
   "cell_type": "code",
   "execution_count": 39,
   "metadata": {},
   "outputs": [],
   "source": [
    "x = f[:, -1]\n"
   ]
  },
  {
   "cell_type": "code",
   "execution_count": 40,
   "metadata": {},
   "outputs": [
    {
     "data": {
      "text/plain": [
       "True"
      ]
     },
     "execution_count": 40,
     "metadata": {},
     "output_type": "execute_result"
    }
   ],
   "source": [
    "del f\n",
    "f = np.memmap('memmapped.dat', dtype=np.float32,\n",
    "              shape=(nrows, ncols))\n",
    "np.array_equal(f[:, -1], x)\n"
   ]
  },
  {
   "cell_type": "code",
   "execution_count": 41,
   "metadata": {},
   "outputs": [
    {
     "data": {
      "text/plain": [
       "memmap([0.22640762, 0.54651195, 0.15702775, 0.5711275 , 0.42055616,\n",
       "        0.5304366 , 0.8738226 , 0.70866275, 0.3160481 , 0.40925053,\n",
       "        0.1859656 , 0.78965247, 0.8312158 , 0.5900434 , 0.16268277,\n",
       "        0.13919576, 0.3462062 , 0.9412186 , 0.27420837, 0.87757874,\n",
       "        0.41623294, 0.13128315, 0.27773008, 0.6248147 , 0.6775594 ,\n",
       "        0.19527707, 0.8275884 , 0.43151098, 0.707892  , 0.43283352,\n",
       "        0.01840101, 0.27259618, 0.9463053 , 0.9608674 , 0.7253252 ,\n",
       "        0.87748915, 0.2850161 , 0.08377405, 0.02187638, 0.77399635,\n",
       "        0.7613243 , 0.90241265, 0.12175307, 0.25349876, 0.50431997,\n",
       "        0.44614825, 0.54003674, 0.47823846, 0.80515516, 0.78062004,\n",
       "        0.28772512, 0.67550206, 0.7155842 , 0.9398234 , 0.308528  ,\n",
       "        0.8245011 , 0.37066692, 0.38753843, 0.23013829, 0.657682  ,\n",
       "        0.97336435, 0.3568009 , 0.2473991 , 0.29771262, 0.82600915,\n",
       "        0.38555974, 0.95315474, 0.93425804, 0.47544873, 0.64962375,\n",
       "        0.7127556 , 0.07380385, 0.35634735, 0.47779205, 0.10996498,\n",
       "        0.15089062, 0.8995629 , 0.18088056, 0.26200628, 0.8250983 ,\n",
       "        0.12246929, 0.62988144, 0.25372738, 0.7574182 , 0.8111776 ,\n",
       "        0.94649124, 0.03989601, 0.8593432 , 0.39108145, 0.42896178,\n",
       "        0.53530407, 0.00750331, 0.1905237 , 0.57179165, 0.82226706,\n",
       "        0.83342904, 0.89887947, 0.05224678, 0.5678003 , 0.9762229 ],\n",
       "       dtype=float32)"
      ]
     },
     "execution_count": 41,
     "metadata": {},
     "output_type": "execute_result"
    }
   ],
   "source": [
    "f[0,:]\n"
   ]
  },
  {
   "cell_type": "code",
   "execution_count": 24,
   "metadata": {},
   "outputs": [
    {
     "data": {
      "text/plain": [
       "(22, 236, 21)"
      ]
     },
     "metadata": {},
     "output_type": "display_data"
    },
    {
     "data": {
      "text/plain": [
       "(22,)"
      ]
     },
     "metadata": {},
     "output_type": "display_data"
    }
   ],
   "source": [
    "display(X.shape)\n",
    "display(y.shape)\n"
   ]
  },
  {
   "cell_type": "code",
   "execution_count": 25,
   "metadata": {},
   "outputs": [
    {
     "data": {
      "text/plain": [
       "array([[[0.07616804, 0.08275032, 0.03543085, ..., 0.73212295,\n",
       "         0.69785624, 0.9602075 ],\n",
       "        [0.07616804, 0.08275032, 0.03543085, ..., 0.73212295,\n",
       "         0.69785624, 0.9602075 ],\n",
       "        [0.08185264, 0.08613979, 0.04766478, ..., 0.7643803 ,\n",
       "         0.53246963, 0.89747426],\n",
       "        ...,\n",
       "        [0.13770808, 0.04053105, 0.02388111, ..., 0.69633552,\n",
       "         0.1309285 , 0.16297955],\n",
       "        [0.12024056, 0.0417986 , 0.01929145, ..., 0.64476382,\n",
       "         0.09949226, 0.14842238],\n",
       "        [0.04240179, 0.03696535, 0.00935105, ..., 0.69721541,\n",
       "         0.10758768, 0.19562867]],\n",
       "\n",
       "       [[0.0623507 , 0.42580764, 0.41060588, ..., 0.04539589,\n",
       "         0.08037802, 0.14707888],\n",
       "        [0.0623507 , 0.42580764, 0.41060588, ..., 0.04539589,\n",
       "         0.08037802, 0.14707888],\n",
       "        [0.14677365, 0.45855386, 0.50288452, ..., 0.03582819,\n",
       "         0.05712622, 0.09397328],\n",
       "        ...,\n",
       "        [0.33400106, 0.56994377, 0.31229277, ..., 0.0024284 ,\n",
       "         0.        , 0.04917999],\n",
       "        [0.41220548, 0.41905728, 0.28709266, ..., 0.03245029,\n",
       "         0.05128739, 0.02984958],\n",
       "        [0.4276994 , 0.45714817, 0.45150531, ..., 0.04897442,\n",
       "         0.06614456, 0.01397632]],\n",
       "\n",
       "       [[0.14518166, 0.36857622, 0.48604594, ..., 0.04529115,\n",
       "         0.22647018, 0.17130342],\n",
       "        [0.14518166, 0.36857622, 0.48604594, ..., 0.04529115,\n",
       "         0.22647018, 0.17130342],\n",
       "        [0.26308403, 0.36253418, 0.48979822, ..., 0.05168559,\n",
       "         0.25554916, 0.204596  ],\n",
       "        ...,\n",
       "        [0.28546155, 0.21181663, 0.34643388, ..., 0.00770942,\n",
       "         0.01397364, 0.02297952],\n",
       "        [0.39695436, 0.2051167 , 0.30847401, ..., 0.01380483,\n",
       "         0.02760696, 0.02286348],\n",
       "        [0.38993962, 0.243538  , 0.34128009, ..., 0.01729624,\n",
       "         0.0357007 , 0.02214449]],\n",
       "\n",
       "       ...,\n",
       "\n",
       "       [[0.09069331, 0.19069863, 0.01543303, ..., 0.00156316,\n",
       "         0.00232205, 0.00353074],\n",
       "        [0.09069331, 0.19069863, 0.01543303, ..., 0.00156316,\n",
       "         0.00232205, 0.00353074],\n",
       "        [0.28686328, 0.20324358, 0.0197046 , ..., 0.00111118,\n",
       "         0.00254384, 0.00312216],\n",
       "        ...,\n",
       "        [0.14748511, 0.18862045, 0.16081463, ..., 0.01571092,\n",
       "         0.00527285, 0.00338821],\n",
       "        [0.22599859, 0.27491977, 0.17544102, ..., 0.01641026,\n",
       "         0.00386885, 0.00427327],\n",
       "        [0.20466984, 0.31782918, 0.17906588, ..., 0.01446808,\n",
       "         0.00365591, 0.00394452]],\n",
       "\n",
       "       [[0.61098121, 0.42579406, 0.2840977 , ..., 0.05415791,\n",
       "         0.33728992, 0.19317858],\n",
       "        [0.61098121, 0.42579406, 0.2840977 , ..., 0.05415791,\n",
       "         0.33728992, 0.19317858],\n",
       "        [0.68069157, 0.48987053, 0.32802723, ..., 0.04884432,\n",
       "         0.35066476, 0.21054007],\n",
       "        ...,\n",
       "        [0.11703693, 0.25629967, 0.53578675, ..., 0.02819507,\n",
       "         0.20674713, 0.19955771],\n",
       "        [0.06322105, 0.23206371, 0.46972949, ..., 0.01415406,\n",
       "         0.16422225, 0.19022675],\n",
       "        [0.06904515, 0.18228875, 0.16198982, ..., 0.01959325,\n",
       "         0.08703916, 0.21524107]],\n",
       "\n",
       "       [[0.24024264, 0.1193341 , 0.11763848, ..., 0.02786958,\n",
       "         0.01202815, 0.009945  ],\n",
       "        [0.24024264, 0.1193341 , 0.11763848, ..., 0.02786958,\n",
       "         0.01202815, 0.009945  ],\n",
       "        [0.23881885, 0.12804543, 0.12940541, ..., 0.03598933,\n",
       "         0.019883  , 0.01897053],\n",
       "        ...,\n",
       "        [0.1111412 , 0.12785638, 0.22710307, ..., 0.0044831 ,\n",
       "         0.00513734, 0.00486856],\n",
       "        [0.15473458, 0.0683073 , 0.15935676, ..., 0.00325748,\n",
       "         0.00729111, 0.00483359],\n",
       "        [0.21965741, 0.03833069, 0.12227149, ..., 0.00267106,\n",
       "         0.0078106 , 0.00532486]]])"
      ]
     },
     "execution_count": 25,
     "metadata": {},
     "output_type": "execute_result"
    }
   ],
   "source": [
    "# normalize X?\n",
    "\n",
    "x_min = X.min(axis=(1), keepdims=True)\n",
    "x_max = X.max(axis=(1), keepdims=True)\n",
    "\n",
    "X = (X - x_min)/(x_max-x_min)\n",
    "\n",
    "X\n",
    "# print(type(X))\n"
   ]
  },
  {
   "cell_type": "code",
   "execution_count": 26,
   "metadata": {},
   "outputs": [],
   "source": [
    "import tensorflow as tf\n",
    "from tensorflow.keras.utils import to_categorical\n",
    "from sklearn.preprocessing import OneHotEncoder\n"
   ]
  },
  {
   "cell_type": "code",
   "execution_count": 27,
   "metadata": {},
   "outputs": [],
   "source": [
    "# turn target variable into binary class matrix\n",
    "\n",
    "\n",
    "#y = tf.keras.utils.to_categorical(y, num_classes=3)\n",
    "# y = to_categorical(y)\n",
    "# y.shape\n",
    "\n",
    "ohe = OneHotEncoder()\n",
    "y = y.reshape(len(y), 1)\n",
    "ohe.fit(y)\n",
    "y = ohe.transform(y)\n"
   ]
  },
  {
   "cell_type": "code",
   "execution_count": 28,
   "metadata": {},
   "outputs": [
    {
     "data": {
      "text/plain": [
       "(22, 3)"
      ]
     },
     "execution_count": 28,
     "metadata": {},
     "output_type": "execute_result"
    }
   ],
   "source": [
    "y.shape\n"
   ]
  },
  {
   "cell_type": "markdown",
   "metadata": {},
   "source": [
    "## **Autoencoder**"
   ]
  },
  {
   "cell_type": "code",
   "execution_count": 29,
   "metadata": {},
   "outputs": [],
   "source": [
    "from keras import Model\n",
    "from keras.layers import Input, LSTM, RepeatVector, Dense\n",
    "\n",
    "def encoder(inputs, input_dim, latent_dim):\n",
    "    encoder = LSTM(int(input_dim / 2),\n",
    "                   activation=\"relu\",\n",
    "                   return_sequences=True)(inputs)\n",
    "    encoder = LSTM(latent_dim,\n",
    "                   activation=\"relu\",\n",
    "                   return_sequences=False)(encoder)\n",
    "    return encoder\n",
    "\n",
    "\n",
    "def decoder(latent_dim, timesteps, input_dim, encoder):\n",
    "    decoder = RepeatVector(timesteps)(encoder)\n",
    "    decoder = LSTM(int(input_dim / 2),\n",
    "                   activation=\"relu\",\n",
    "                   return_sequences=True)(decoder)\n",
    "    decoder = LSTM(input_dim,\n",
    "                   return_sequences=True)(decoder)\n",
    "\n",
    "\n",
    "    return decoder\n",
    "\n",
    "\n",
    "\n",
    "def build_autoencoder(encoder, decoder, timesteps, input_dim, latent_dim):\n",
    "    inputs = Input(shape=(timesteps, input_dim))\n",
    "    encoded = encoder(inputs, input_dim, latent_dim)\n",
    "\n",
    "    decoded = decoder(timesteps, input_dim, encoded)\n",
    "    autoencoder = Model(inputs, decoded)\n",
    "    return autoencoder\n"
   ]
  },
  {
   "cell_type": "code",
   "execution_count": 30,
   "metadata": {},
   "outputs": [],
   "source": [
    "def prepare_listener(timesteps,\n",
    "                     input_dim,\n",
    "                     latent_dim,\n",
    "                     optimizer_type,\n",
    "                     loss_type):\n",
    "    \"\"\"Prepares Seq2Seq autoencoder model\n",
    "\n",
    "        Args:\n",
    "            :param timesteps: The number of timesteps in sequence\n",
    "            :param input_dim: The dimensions of the input\n",
    "            :param latent_dim: The latent dimensionality of LSTM\n",
    "            :param optimizer_type: The type of optimizer to use\n",
    "            :param loss_type: The type of loss to use\n",
    "\n",
    "        Returns:\n",
    "            Autoencoder model, Encoder model\n",
    "    \"\"\"\n",
    "\n",
    "    inputs = Input(shape=(timesteps, input_dim))\n",
    "    encoded = LSTM(int(input_dim / 2),\n",
    "                   activation=\"relu\",\n",
    "                   return_sequences=True)(inputs)\n",
    "    encoded = LSTM(latent_dim,\n",
    "                   activation=\"relu\",\n",
    "                   return_sequences=False)(encoded)\n",
    "    decoded = RepeatVector(timesteps)(encoded)\n",
    "    decoded = LSTM(int(input_dim / 2),\n",
    "                   activation=\"relu\",\n",
    "                   return_sequences=True)(decoded)\n",
    "    decoded = LSTM(input_dim,\n",
    "                   return_sequences=True)(decoded)\n",
    "\n",
    "    autoencoder = Model(inputs, decoded)\n",
    "    encoder = Model(inputs, encoded)\n",
    "\n",
    "    autoencoder.compile(optimizer=optimizer_type,\n",
    "                        loss=loss_type,\n",
    "                        metrics=['acc'])\n",
    "\n",
    "    return autoencoder, encoder\n"
   ]
  },
  {
   "cell_type": "code",
   "execution_count": 31,
   "metadata": {},
   "outputs": [],
   "source": [
    "autoencoder, encoder = prepare_listener(236, 21, 5,'adam', 'mse')\n"
   ]
  },
  {
   "cell_type": "code",
   "execution_count": 32,
   "metadata": {},
   "outputs": [
    {
     "name": "stdout",
     "output_type": "stream",
     "text": [
      "Model: \"model\"\n",
      "_________________________________________________________________\n",
      " Layer (type)                Output Shape              Param #   \n",
      "=================================================================\n",
      " input_1 (InputLayer)        [(None, 236, 21)]         0         \n",
      "                                                                 \n",
      " lstm (LSTM)                 (None, 236, 10)           1280      \n",
      "                                                                 \n",
      " lstm_1 (LSTM)               (None, 5)                 320       \n",
      "                                                                 \n",
      " repeat_vector (RepeatVecto  (None, 236, 5)            0         \n",
      " r)                                                              \n",
      "                                                                 \n",
      " lstm_2 (LSTM)               (None, 236, 10)           640       \n",
      "                                                                 \n",
      " lstm_3 (LSTM)               (None, 236, 21)           2688      \n",
      "                                                                 \n",
      "=================================================================\n",
      "Total params: 4928 (19.25 KB)\n",
      "Trainable params: 4928 (19.25 KB)\n",
      "Non-trainable params: 0 (0.00 Byte)\n",
      "_________________________________________________________________\n"
     ]
    }
   ],
   "source": [
    "autoencoder.summary()\n"
   ]
  },
  {
   "cell_type": "code",
   "execution_count": 33,
   "metadata": {},
   "outputs": [
    {
     "name": "stdout",
     "output_type": "stream",
     "text": [
      "Model: \"model_1\"\n",
      "_________________________________________________________________\n",
      " Layer (type)                Output Shape              Param #   \n",
      "=================================================================\n",
      " input_1 (InputLayer)        [(None, 236, 21)]         0         \n",
      "                                                                 \n",
      " lstm (LSTM)                 (None, 236, 10)           1280      \n",
      "                                                                 \n",
      " lstm_1 (LSTM)               (None, 5)                 320       \n",
      "                                                                 \n",
      "=================================================================\n",
      "Total params: 1600 (6.25 KB)\n",
      "Trainable params: 1600 (6.25 KB)\n",
      "Non-trainable params: 0 (0.00 Byte)\n",
      "_________________________________________________________________\n"
     ]
    }
   ],
   "source": [
    "encoder.summary()\n"
   ]
  },
  {
   "cell_type": "code",
   "execution_count": 34,
   "metadata": {},
   "outputs": [
    {
     "name": "stdout",
     "output_type": "stream",
     "text": [
      "Epoch 1/50\n",
      "3/3 [==============================] - 2s 100ms/step - loss: 0.1024 - acc: 0.0312\n",
      "Epoch 2/50\n",
      "3/3 [==============================] - 0s 98ms/step - loss: 0.0921 - acc: 0.0347\n",
      "Epoch 3/50\n",
      "3/3 [==============================] - 0s 98ms/step - loss: 0.0829 - acc: 0.0485\n",
      "Epoch 4/50\n",
      "3/3 [==============================] - 0s 101ms/step - loss: 0.0762 - acc: 0.0659\n",
      "Epoch 5/50\n",
      "3/3 [==============================] - 0s 101ms/step - loss: 0.0690 - acc: 0.0705\n",
      "Epoch 6/50\n",
      "3/3 [==============================] - 0s 99ms/step - loss: 0.0641 - acc: 0.0705\n",
      "Epoch 7/50\n",
      "3/3 [==============================] - 0s 98ms/step - loss: 0.0599 - acc: 0.0707\n",
      "Epoch 8/50\n",
      "3/3 [==============================] - 0s 101ms/step - loss: 0.0564 - acc: 0.0742\n",
      "Epoch 9/50\n",
      "3/3 [==============================] - 0s 101ms/step - loss: 0.0537 - acc: 0.0774\n",
      "Epoch 10/50\n",
      "3/3 [==============================] - 0s 101ms/step - loss: 0.0515 - acc: 0.0801\n",
      "Epoch 11/50\n",
      "3/3 [==============================] - 0s 101ms/step - loss: 0.0499 - acc: 0.0803\n",
      "Epoch 12/50\n",
      "3/3 [==============================] - 0s 101ms/step - loss: 0.0487 - acc: 0.0932\n",
      "Epoch 13/50\n",
      "3/3 [==============================] - 0s 104ms/step - loss: 0.0479 - acc: 0.0984\n",
      "Epoch 14/50\n",
      "3/3 [==============================] - 0s 97ms/step - loss: 0.0474 - acc: 0.0938\n",
      "Epoch 15/50\n",
      "3/3 [==============================] - 0s 103ms/step - loss: 0.0470 - acc: 0.0851\n",
      "Epoch 16/50\n",
      "3/3 [==============================] - 0s 98ms/step - loss: 0.0467 - acc: 0.0886\n",
      "Epoch 17/50\n",
      "3/3 [==============================] - 0s 100ms/step - loss: 0.0464 - acc: 0.0965\n",
      "Epoch 18/50\n",
      "3/3 [==============================] - 0s 98ms/step - loss: 0.0463 - acc: 0.0907\n",
      "Epoch 19/50\n",
      "3/3 [==============================] - 0s 100ms/step - loss: 0.0461 - acc: 0.0930\n",
      "Epoch 20/50\n",
      "3/3 [==============================] - 0s 99ms/step - loss: 0.0460 - acc: 0.0928\n",
      "Epoch 21/50\n",
      "3/3 [==============================] - 0s 97ms/step - loss: 0.0459 - acc: 0.0930\n",
      "Epoch 22/50\n",
      "3/3 [==============================] - 0s 100ms/step - loss: 0.0458 - acc: 0.0932\n",
      "Epoch 23/50\n",
      "3/3 [==============================] - 0s 100ms/step - loss: 0.0457 - acc: 0.0928\n",
      "Epoch 24/50\n",
      "3/3 [==============================] - 0s 101ms/step - loss: 0.0456 - acc: 0.0932\n",
      "Epoch 25/50\n",
      "3/3 [==============================] - 0s 101ms/step - loss: 0.0455 - acc: 0.1013\n",
      "Epoch 26/50\n",
      "3/3 [==============================] - 0s 98ms/step - loss: 0.0455 - acc: 0.1117\n",
      "Epoch 27/50\n",
      "3/3 [==============================] - 0s 99ms/step - loss: 0.0454 - acc: 0.1021\n",
      "Epoch 28/50\n",
      "3/3 [==============================] - 0s 103ms/step - loss: 0.0453 - acc: 0.1023\n",
      "Epoch 29/50\n",
      "3/3 [==============================] - 0s 101ms/step - loss: 0.0453 - acc: 0.1023\n",
      "Epoch 30/50\n",
      "3/3 [==============================] - 0s 101ms/step - loss: 0.0452 - acc: 0.1065\n",
      "Epoch 31/50\n",
      "3/3 [==============================] - 0s 100ms/step - loss: 0.0452 - acc: 0.1025\n",
      "Epoch 32/50\n",
      "3/3 [==============================] - 0s 104ms/step - loss: 0.0451 - acc: 0.0975\n",
      "Epoch 33/50\n",
      "3/3 [==============================] - 0s 106ms/step - loss: 0.0451 - acc: 0.1082\n",
      "Epoch 34/50\n",
      "3/3 [==============================] - 0s 106ms/step - loss: 0.0450 - acc: 0.1073\n",
      "Epoch 35/50\n",
      "3/3 [==============================] - 0s 104ms/step - loss: 0.0450 - acc: 0.1121\n",
      "Epoch 36/50\n",
      "3/3 [==============================] - 0s 103ms/step - loss: 0.0449 - acc: 0.1125\n",
      "Epoch 37/50\n",
      "3/3 [==============================] - 0s 103ms/step - loss: 0.0449 - acc: 0.1069\n",
      "Epoch 38/50\n",
      "3/3 [==============================] - 0s 102ms/step - loss: 0.0448 - acc: 0.1069\n",
      "Epoch 39/50\n",
      "3/3 [==============================] - 0s 105ms/step - loss: 0.0448 - acc: 0.1067\n",
      "Epoch 40/50\n",
      "3/3 [==============================] - 0s 103ms/step - loss: 0.0447 - acc: 0.1167\n",
      "Epoch 41/50\n",
      "3/3 [==============================] - 0s 105ms/step - loss: 0.0446 - acc: 0.1079\n",
      "Epoch 42/50\n",
      "3/3 [==============================] - 0s 105ms/step - loss: 0.0446 - acc: 0.1038\n",
      "Epoch 43/50\n",
      "3/3 [==============================] - 0s 104ms/step - loss: 0.0445 - acc: 0.1102\n",
      "Epoch 44/50\n",
      "3/3 [==============================] - 0s 103ms/step - loss: 0.0445 - acc: 0.1146\n",
      "Epoch 45/50\n",
      "3/3 [==============================] - 0s 106ms/step - loss: 0.0444 - acc: 0.1086\n",
      "Epoch 46/50\n",
      "3/3 [==============================] - 0s 103ms/step - loss: 0.0444 - acc: 0.1092\n",
      "Epoch 47/50\n",
      "3/3 [==============================] - 0s 105ms/step - loss: 0.0443 - acc: 0.1075\n",
      "Epoch 48/50\n",
      "3/3 [==============================] - 0s 104ms/step - loss: 0.0443 - acc: 0.1073\n",
      "Epoch 49/50\n",
      "3/3 [==============================] - 0s 102ms/step - loss: 0.0442 - acc: 0.1073\n",
      "Epoch 50/50\n",
      "3/3 [==============================] - 0s 104ms/step - loss: 0.0442 - acc: 0.1067\n"
     ]
    },
    {
     "data": {
      "text/plain": [
       "<keras.src.callbacks.History at 0x2b209f940>"
      ]
     },
     "execution_count": 34,
     "metadata": {},
     "output_type": "execute_result"
    }
   ],
   "source": [
    "autoencoder.fit(X,X, batch_size=8, epochs=50)\n"
   ]
  },
  {
   "cell_type": "code",
   "execution_count": null,
   "metadata": {},
   "outputs": [],
   "source": [
    "def predictor =\n"
   ]
  }
 ],
 "metadata": {
  "kernelspec": {
   "display_name": "birdsong_classifier",
   "language": "python",
   "name": "python3"
  },
  "language_info": {
   "codemirror_mode": {
    "name": "ipython",
    "version": 3
   },
   "file_extension": ".py",
   "mimetype": "text/x-python",
   "name": "python",
   "nbconvert_exporter": "python",
   "pygments_lexer": "ipython3",
   "version": "3.10.6"
  }
 },
 "nbformat": 4,
 "nbformat_minor": 2
}
